{
  "nbformat": 4,
  "nbformat_minor": 0,
  "metadata": {
    "colab": {
      "name": "P1.ipynb",
      "provenance": [],
      "authorship_tag": "ABX9TyMmTi71NH9I46rXG/XiDZBF",
      "include_colab_link": true
    },
    "kernelspec": {
      "name": "python3",
      "display_name": "Python 3"
    }
  },
  "cells": [
    {
      "cell_type": "markdown",
      "metadata": {
        "id": "view-in-github",
        "colab_type": "text"
      },
      "source": [
        "<a href=\"https://colab.research.google.com/github/riemannruiz/MS_Modelado_Predictivo/blob/master/P1.ipynb\" target=\"_parent\"><img src=\"https://colab.research.google.com/assets/colab-badge.svg\" alt=\"Open In Colab\"/></a>"
      ]
    },
    {
      "cell_type": "markdown",
      "metadata": {
        "id": "_8e-jwqYw6ug",
        "colab_type": "text"
      },
      "source": [
        "## **Práctica de preprocesamiento de datos**\n",
        "En este ejercicio tiene como objetivo explorar las transformaciones que se utilizan para preparar los datos antes crear un modelo de \"Machine Learning\"."
      ]
    },
    {
      "cell_type": "markdown",
      "metadata": {
        "id": "atrklZHFx1uT",
        "colab_type": "text"
      },
      "source": [
        "Cargar las librerías necesarias para ejecutar el ejercicio."
      ]
    },
    {
      "cell_type": "code",
      "metadata": {
        "id": "ZwahlaNyw4YH",
        "colab_type": "code",
        "colab": {}
      },
      "source": [
        "# Importar librerias que se usaran\n",
        "import numpy as np\n",
        "import pandas as pd\n",
        "import matplotlib.pyplot as plt\n",
        "#pip install pandas-profiling[notebook]"
      ],
      "execution_count": null,
      "outputs": []
    },
    {
      "cell_type": "markdown",
      "metadata": {
        "id": "zUXKQJMGyzh7",
        "colab_type": "text"
      },
      "source": [
        "Si el ejercicio está ejecutandose en la plataforma **Google Colab**, se debe de cargar los datos a la plataforma para poder acceder a los mismos. La carga de los datos se realizá con el código siguiente.\n",
        "\n",
        "Si el ejercicio se está ejecutando de forma local se debe omitir el código siguiente."
      ]
    },
    {
      "cell_type": "code",
      "metadata": {
        "id": "i2qQzHBEy2or",
        "colab_type": "code",
        "colab": {}
      },
      "source": [
        "from google.colab import files\n",
        "\n",
        "uploaded = files.upload()\n",
        "\n",
        "for fn in uploaded.keys():\n",
        "  print('User uploaded file \"{name}\" with length {length} bytes'.format(\n",
        "      name=fn, length=len(uploaded[fn])))"
      ],
      "execution_count": null,
      "outputs": []
    },
    {
      "cell_type": "markdown",
      "metadata": {
        "id": "4DZ-dvB9zZGz",
        "colab_type": "text"
      },
      "source": [
        "Leer e importar los datos mediante la paquetería pandas y se almacenan en un DataFrame."
      ]
    },
    {
      "cell_type": "code",
      "metadata": {
        "id": "kJeeoL1Qz3aj",
        "colab_type": "code",
        "colab": {}
      },
      "source": [
        "file_path = 'glass.data'\n",
        "data = pd.read_read(file_path,header=None)\n",
        "cnames = ['ID','Indice_Refraccion','Na','Mg','Al','Si','K',\n",
        "         'Ca','Ba','Fe','Tipo_Vidrio']\n",
        "data.columns = cnames\n",
        "data.head()"
      ],
      "execution_count": null,
      "outputs": []
    },
    {
      "cell_type": "markdown",
      "metadata": {
        "id": "BZulKbQ23qWX",
        "colab_type": "text"
      },
      "source": [
        "Conocer el estado actual de los datos sirve para entender el origen de los datos."
      ]
    },
    {
      "cell_type": "code",
      "metadata": {
        "id": "Yw1gYFr_3_Pr",
        "colab_type": "code",
        "colab": {}
      },
      "source": [
        "#%% REPORTE DE CALIDAD DE LOS DATOS\n",
        "def dqr(data):\n",
        "    # Lista de variables de la base de datos\n",
        "    cols = pd.DataFrame(list(data.columns.values),\n",
        "                           columns=['Nombres'],\n",
        "                           index=list(data.columns.values))\n",
        "    #lista de tipos de datos\n",
        "    dtyp = pd.DataFrame(data.dtypes,columns=['Tipo'])\n",
        "    # lista de datos perdidos\n",
        "    misval = pd.DataFrame(data.isnull().sum(),\n",
        "                                  columns=['Valores_Perdidos'])\n",
        "    # Lista de los datos presentes\n",
        "    presval = pd.DataFrame(data.count(),\n",
        "                                  columns=['Valores_Presentes'])\n",
        "    # Lista de valores unicos\n",
        "    unival = pd.DataFrame(columns=['Valores_Unicos'])\n",
        "    # Lista de valores minimos\n",
        "    minval = pd.DataFrame(columns=['Min'])\n",
        "    # Lista de valores maximos\n",
        "    maxval = pd.DataFrame(columns=['Max'])\n",
        "    for col in list(data.columns.values):\n",
        "        unival.loc[col] = [data[col].nunique()]\n",
        "        try:\n",
        "            minval.loc[col] = [data[col].min()]\n",
        "            maxval.loc[col] = [data[col].max()]\n",
        "        except:\n",
        "            pass\n",
        "    \n",
        "    # Juntar todas las tablas\n",
        "    return cols.join(dtyp).join(misval).join(presval).join(unival).join(minval).join(maxval)\n",
        "\n",
        "reporte = dqr(data)\n",
        "reporte"
      ],
      "execution_count": null,
      "outputs": []
    },
    {
      "cell_type": "markdown",
      "metadata": {
        "id": "JpwkV_Db6izK",
        "colab_type": "text"
      },
      "source": [
        "La descripción de los datos por medio de gráficos es muy común y es de lo mpas recomendable. Pero hay que tener encuenta detalles de escala que pueden ser engañosos para la intepretación de los datos."
      ]
    },
    {
      "cell_type": "code",
      "metadata": {
        "id": "qIfdSPHq_Ohd",
        "colab_type": "code",
        "colab": {}
      },
      "source": [
        "#%% Dibujar alguna una de las variables\n",
        "#plt.figure(figsize=(5,4))\n",
        "plt.scatter(data.ID,data.Indice_Refraccion)\n",
        "plt.xlabel('ID'),plt.ylabel('Indice de Refraccion')\n",
        "plt.grid()\n",
        "plt.show()"
      ],
      "execution_count": null,
      "outputs": []
    },
    {
      "cell_type": "code",
      "metadata": {
        "id": "XSVmeBA7_SkG",
        "colab_type": "code",
        "colab": {}
      },
      "source": [
        "#%% Dibujar alguna una de las variables\n",
        "#plt.figure(figsize=(5,4))\n",
        "plt.scatter(data.ID,data.Na)\n",
        "plt.xlabel('ID'),plt.ylabel('Sodio (Na)')\n",
        "plt.grid()\n",
        "plt.show()"
      ],
      "execution_count": null,
      "outputs": []
    },
    {
      "cell_type": "code",
      "metadata": {
        "id": "MNkNgJUi_UZl",
        "colab_type": "code",
        "colab": {}
      },
      "source": [
        "#%%  Dibujar una variable contra otra\n",
        "plt.scatter(data.Indice_Refraccion,data.Na)\n",
        "plt.xlabel('Indice de Refraccion'),plt.ylabel('Sodio (Na)')\n",
        "plt.axis('square')\n",
        "plt.grid()\n",
        "plt.show()"
      ],
      "execution_count": null,
      "outputs": []
    },
    {
      "cell_type": "markdown",
      "metadata": {
        "id": "89ldmYXt_XF2",
        "colab_type": "text"
      },
      "source": [
        "# **Escalamiento de datos**\n",
        "El escalameinto de los datos permite resaltar el comportamiento de lso datos sin tener la dependencia de la escla de medicón de las variables."
      ]
    },
    {
      "cell_type": "code",
      "metadata": {
        "id": "W4pBKNFU_lRX",
        "colab_type": "code",
        "colab": {}
      },
      "source": [
        "#%% ESCALAMIENTO DE VARIABLES POR NORMALIZACION\n",
        "data['Indice_Refraccion_escala'] = (data.Indice_Refraccion-data.Indice_Refraccion.mean())/data.Indice_Refraccion.std()\n",
        "data['Na_escala'] = (data.Na-data.Na.mean())/data.Na.std()\n",
        "\n",
        "### Escalamiento por medio de scikit-learn\n",
        "#from sklearn import preprocessing\n",
        "#data['Indice_Refraccion_escala'] = preprocessing.scale(data.Indice_Refraccion)"
      ],
      "execution_count": null,
      "outputs": []
    },
    {
      "cell_type": "code",
      "metadata": {
        "id": "NFipqc8p_2WA",
        "colab_type": "code",
        "colab": {}
      },
      "source": [
        "#%% Visualizar la nueva variable\n",
        "fig = plt.figure()\n",
        "plt.subplot(1,2,1)\n",
        "plt.scatter(data.ID,data.Na)\n",
        "plt.xlabel('ID'),plt.ylabel('Sodio (Na)')\n",
        "plt.title('Original')\n",
        "plt.grid()\n",
        "plt.subplot(1,2,2)\n",
        "plt.scatter(data.ID,data.Na_escala)\n",
        "plt.xlabel('Indice de Refraccion'),plt.ylabel('Sodio (Na) Reescalado')\n",
        "plt.title('Rescalamiento')\n",
        "plt.grid()\n",
        "fig.tight_layout()\n",
        "plt.show()"
      ],
      "execution_count": null,
      "outputs": []
    },
    {
      "cell_type": "code",
      "metadata": {
        "id": "JshRixD4_7_o",
        "colab_type": "code",
        "colab": {}
      },
      "source": [
        "#%% Visualizar las nuevas variables\n",
        "fig = plt.figure()\n",
        "plt.subplot(1,2,1)\n",
        "plt.scatter(data.Indice_Refraccion,data.Na)\n",
        "plt.xlabel('Indice de Refraccion'),plt.ylabel('Sodio (Na)')\n",
        "#plt.axis('square')\n",
        "plt.title('Original')\n",
        "plt.grid()\n",
        "plt.subplot(1,2,2)\n",
        "plt.scatter(data.Indice_Refraccion_escala,data.Na_escala)\n",
        "plt.xlabel('Indice de Refraccion'),plt.ylabel('Sodio (Na)')\n",
        "#plt.axis('square')\n",
        "plt.title('Rescalamiento')\n",
        "plt.grid()\n",
        "fig.tight_layout()\n",
        "plt.show()"
      ],
      "execution_count": null,
      "outputs": []
    },
    {
      "cell_type": "markdown",
      "metadata": {
        "id": "EwbhWbNV__Vt",
        "colab_type": "text"
      },
      "source": [
        "# **Asimetría de datos**\n",
        "La asimetría de los datos se presetna cuando los datos no tienen la misma probabilidad de ocurrencia con respecto a su media. La asimetría derecha se presenta cuando se tienen más datos con valor debajo de la media cuando el fenómeno puede medirse en escalas grandes."
      ]
    },
    {
      "cell_type": "code",
      "metadata": {
        "id": "lGCzitjpA7jF",
        "colab_type": "code",
        "colab": {}
      },
      "source": [
        "#%% ASIMETRIA EN LAS VARIABLES\n",
        "fig = plt.figure()\n",
        "plt.hist(data.Indice_Refraccion,bins=30)\n",
        "plt.xlabel('Indice_Refraccion'),plt.ylabel('Frecuencia')\n",
        "plt.vlines(data.Indice_Refraccion.mean(),0,50,'r')\n",
        "plt.show()"
      ],
      "execution_count": null,
      "outputs": []
    },
    {
      "cell_type": "code",
      "metadata": {
        "id": "i2dB8fQuBA-f",
        "colab_type": "code",
        "colab": {}
      },
      "source": [
        "#%% Criterio empirico para considerar que los datos pueden tener asímetria\n",
        "ratio = data.max()/data.min()\n",
        "ratio"
      ],
      "execution_count": null,
      "outputs": []
    },
    {
      "cell_type": "code",
      "metadata": {
        "id": "gqjcSUdFBHpO",
        "colab_type": "code",
        "colab": {}
      },
      "source": [
        "#%% Calculo de la asimetria\n",
        "v = np.sum(np.power(data-data.mean(axis=0),2))/(data.shape[0]-1)\n",
        "skewness = np.sum(np.power(data-data.mean(axis=0),3))/((data.shape[0]-1)*np.power(v,3/2))\n",
        "\n",
        "# Calculo de la asimetria con pandas\n",
        "skewness = data.skew()\n",
        "\n",
        "# Calculo de la asimetria con scipy\n",
        "from scipy import stats\n",
        "skewness = stats.skew(data)\n",
        "\n",
        "skewness"
      ],
      "execution_count": null,
      "outputs": []
    },
    {
      "cell_type": "code",
      "metadata": {
        "id": "k2JD2-NJBhwl",
        "colab_type": "code",
        "colab": {}
      },
      "source": [
        "#%% Verificacion del Skewness por medio de histogramas\n",
        "fig = plt.figure()\n",
        "plt.subplot(1,2,1)\n",
        "plt.hist(data.Indice_Refraccion)\n",
        "plt.xlabel('Indice_Refraccion'),plt.ylabel('Frecuencia')\n",
        "plt.subplot(1,2,2)\n",
        "plt.hist(data.Mg)\n",
        "plt.xlabel('Magnesio (Mg)'),plt.ylabel('Frecuencia')\n",
        "fig.tight_layout()\n",
        "plt.show()"
      ],
      "execution_count": null,
      "outputs": []
    },
    {
      "cell_type": "markdown",
      "metadata": {
        "id": "wdlk8QwHBgMl",
        "colab_type": "text"
      },
      "source": [
        "Limitar la asimetría de los datos puede tener consecuencias en el contenido de información de los datos."
      ]
    },
    {
      "cell_type": "code",
      "metadata": {
        "id": "WUM660ZgCil-",
        "colab_type": "code",
        "colab": {}
      },
      "source": [
        "#%% Transformacion para limitar la asimetria (skewness)\n",
        "data['Indice_Refraccion_no_skewness'] = np.log(data.Indice_Refraccion)\n",
        "data['Indice_Refraccion_no_skewness'] = np.sqrt(data.Indice_Refraccion)\n",
        "data['Indice_Refraccion_no_skewness'] = 1/data.Indice_Refraccion\n",
        "\n",
        "## Transformacion BoxCox usando scipy\n",
        "from scipy import stats\n",
        "data['Indice_Refraccion_no_skewness'],lamb = stats.boxcox(data.Indice_Refraccion)\n",
        "\n",
        "#data['Indice_Refraccion_no_skewness'] = stats.boxcox(data.Indice_Refraccion,lmbda=-5)"
      ],
      "execution_count": null,
      "outputs": []
    },
    {
      "cell_type": "code",
      "metadata": {
        "id": "go7nLE4oCmlW",
        "colab_type": "code",
        "colab": {}
      },
      "source": [
        "#%% Verificacion del Skewness\n",
        "fig = plt.figure()\n",
        "plt.subplot(1,2,1)\n",
        "plt.hist(data.Indice_Refraccion)\n",
        "plt.xlabel('Indice_Refraccion'),plt.ylabel('Frecuencia')\n",
        "plt.subplot(1,2,2)\n",
        "plt.hist(data.Indice_Refraccion_no_skewness)\n",
        "plt.xlabel('Indice_Refraccion_no_skewness'),plt.ylabel('Frecuencia')\n",
        "fig.tight_layout()\n",
        "plt.show()"
      ],
      "execution_count": null,
      "outputs": []
    },
    {
      "cell_type": "markdown",
      "metadata": {
        "id": "eojS-judC8Ev",
        "colab_type": "text"
      },
      "source": [
        "**Perfilar datos**\n",
        "Una opción para realizar los estudios más comúnes recomendados es utilizar una paqueteria especializada."
      ]
    },
    {
      "cell_type": "code",
      "metadata": {
        "id": "_T4yZiAYDhlQ",
        "colab_type": "code",
        "colab": {}
      },
      "source": [
        "#%% HACIENDO USO DEL PROFILING DE PANDAS\n",
        "import pandas_profiling\n",
        "report = data.profile_report()\n",
        "report = pandas_profiling.ProfileReport(data)\n",
        "#report.to_file(output_file=\"../Data/glass/Titanic data profiling.html\")"
      ],
      "execution_count": null,
      "outputs": []
    },
    {
      "cell_type": "markdown",
      "metadata": {
        "id": "E-ffV8T9DxA-",
        "colab_type": "text"
      },
      "source": [
        "# **Valores Atípicos**\n",
        "Una gráfica de caja (\"boxplot\") es útil para identificar si se tienen datos atípicos."
      ]
    },
    {
      "cell_type": "code",
      "metadata": {
        "id": "uk9ODP7wEiB-",
        "colab_type": "code",
        "colab": {}
      },
      "source": [
        "#%%  IDENTIFICACIÓN DE VALORES ATIPICOS\n",
        "import seaborn as sns\n",
        "\n",
        "# Un boxplot no se ve afectado por el escalamiento\n",
        "sns.boxplot(y=data['Indice_Refraccion'])\n",
        "#sns.boxplot(y=data['Indice_Refraccion_escala'])"
      ],
      "execution_count": null,
      "outputs": []
    },
    {
      "cell_type": "markdown",
      "metadata": {
        "id": "ijPRVZhKErzh",
        "colab_type": "text"
      },
      "source": [
        "Criterio para determinar datos atípicos."
      ]
    },
    {
      "cell_type": "code",
      "metadata": {
        "id": "WRBex51hExXA",
        "colab_type": "code",
        "colab": {}
      },
      "source": [
        "#%% Funcion para determinar los outliers\n",
        "def find_boundaries(df_var,distance=1.5):\n",
        "    IQR = df_var.quantile(0.75)-df_var.quantile(0.25)\n",
        "    lower = df_var.quantile(0.25)-IQR*distance\n",
        "    upper = df_var.quantile(0.75)+IQR*distance\n",
        "    return lower,upper\n",
        "\n",
        "lmin,lmax = find_boundaries(data['Indice_Refraccion'])\n",
        "outliers = np.where(data['Indice_Refraccion'] > lmax, True,np.where(data['Indice_Refraccion'] < lmin, True, False))\n",
        "outliers_df = data.loc[outliers, 'Indice_Refraccion']\n",
        "outliers_df"
      ],
      "execution_count": null,
      "outputs": []
    },
    {
      "cell_type": "markdown",
      "metadata": {
        "id": "obX_cLMZFJvP",
        "colab_type": "text"
      },
      "source": [
        "Trasformar datos atípicos."
      ]
    },
    {
      "cell_type": "code",
      "metadata": {
        "id": "r6DGdijkFOuG",
        "colab_type": "code",
        "colab": {}
      },
      "source": [
        "#%% Haciendo la transformacion spatial sign para mitigar los outliers\n",
        "tmp = data[['Indice_Refraccion_escala','Na_escala']]\n",
        "#modulo = np.sqrt(np.sum(tmp*tmp,axis=1))\n",
        "#tmp['Indice_Refraccion_escala'] = tmp['Indice_Refraccion_escala']/modulo\n",
        "#tmp['Na_escala'] = tmp['Na_escala']/modulo\n",
        "#plt.scatter(tmp.Indice_Refraccion_escala,tmp.Na_escala)\n",
        "\n",
        "# Usando scikit-learn\n",
        "from sklearn import preprocessing\n",
        "tmp = preprocessing.normalize(np.array(tmp), norm='l2')\n",
        "fig = plt.figure(figsize=(9,5))\n",
        "plt.subplot(1,2,1)\n",
        "plt.scatter(data['Indice_Refraccion_escala'],data['Na_escala'])\n",
        "plt.xlabel('Indice_Refraccion_escala'),plt.ylabel('Na_escala')\n",
        "plt.subplot(1,2,2)\n",
        "plt.scatter(tmp[:,0],tmp[:,1])\n",
        "plt.xlabel('Indice_Refraccion_escala'),plt.ylabel('Na_escala')\n",
        "plt.tight_layout()\n",
        "plt.show()"
      ],
      "execution_count": null,
      "outputs": []
    },
    {
      "cell_type": "markdown",
      "metadata": {
        "id": "scVq7St1Kpkn",
        "colab_type": "text"
      },
      "source": [
        "# **Datos perdidos**\n",
        "El tratamiento de datos perdidos se debe de realizar en función de los objetivos propuestos o a las implicaciones de aplicar una técnica u otra."
      ]
    },
    {
      "cell_type": "code",
      "metadata": {
        "id": "fK6Bt3p6Ko-M",
        "colab_type": "code",
        "colab": {}
      },
      "source": [
        "from google.colab import files\n",
        "\n",
        "uploaded = files.upload()\n",
        "\n",
        "for fn in uploaded.keys():\n",
        "  print('User uploaded file \"{name}\" with length {length} bytes'.format(\n",
        "      name=fn, length=len(uploaded[fn])))"
      ],
      "execution_count": null,
      "outputs": []
    },
    {
      "cell_type": "code",
      "metadata": {
        "id": "AdAkPrlFL6r_",
        "colab_type": "code",
        "colab": {}
      },
      "source": [
        "#%% Importar la tabla\n",
        "datamovie = pd.read_excel('..\\Data\\movietest\\Test de películas(1-85).xlsx')\n",
        "#%% Seleccion de las columnas validas\n",
        "csel = np.arange(7,244,3)\n",
        "cnames = list(datamovie.columns.values[csel])\n",
        "datan = datamovie[cnames]"
      ],
      "execution_count": null,
      "outputs": []
    },
    {
      "cell_type": "markdown",
      "metadata": {
        "id": "f1KXS6p6MAGZ",
        "colab_type": "text"
      },
      "source": [
        "Eliminación de datos nulos."
      ]
    },
    {
      "cell_type": "code",
      "metadata": {
        "id": "s4EfS_eYMHWJ",
        "colab_type": "code",
        "colab": {}
      },
      "source": [
        "#%% Eliminar todos los registros con datos nulos\n",
        "datan_clean = datan.dropna()\n",
        "miss_val_data = datan.isnull().mean().sort_values(ascending=True)"
      ],
      "execution_count": null,
      "outputs": []
    },
    {
      "cell_type": "markdown",
      "metadata": {
        "id": "Zwdn5xTrO7Hd",
        "colab_type": "text"
      },
      "source": [
        "Criterio de la media, mediana o frecuencia"
      ]
    },
    {
      "cell_type": "code",
      "metadata": {
        "id": "GWQgIdW2PuiR",
        "colab_type": "code",
        "colab": {}
      },
      "source": [
        "#%% Imputacion por media o mediana\n",
        "from sklearn.impute import SimpleImputer\n",
        "imputer = SimpleImputer(strategy='constant', fill_value=99)\n",
        "#imputer = SimpleImputer(strategy='constant', fill_value='Missing')\n",
        "#imputer = SimpleImputer(strategy='mean')\n",
        "#imputer = SimpleImputer(strategy='median')\n",
        "#imputer = SimpleImputer(strategy='most_frequent')\n",
        "\n",
        "imputer.fit(datan)\n",
        "imputer.statistics_ # revisar los valores por los que remplazará\n",
        "datan_clean = imputer.transform(datan)"
      ],
      "execution_count": null,
      "outputs": []
    },
    {
      "cell_type": "markdown",
      "metadata": {
        "id": "Maq6ZynFP4oN",
        "colab_type": "text"
      },
      "source": [
        "Criterio basado en modelos"
      ]
    },
    {
      "cell_type": "code",
      "metadata": {
        "id": "TYl-JZonP9M5",
        "colab_type": "code",
        "colab": {}
      },
      "source": [
        "#%% Imputacion iterativa\n",
        "from sklearn.impute import IterativeImputer\n",
        "from sklearn.linear_model import BayesianRidge\n",
        "from sklearn.neighbors import KNeighborsRegressor\n",
        "\n",
        "imputer = IterativeImputer(estimator = BayesianRidge(),max_iter=10, random_state=0)\n",
        "#imputer = IterativeImputer(estimator=KNeighborsRegressor(n_neighbors=5),max_iter=10,random_state=0)\n",
        "imputer.fit(datan)\n",
        "data_clean = imputer.transform(datan)"
      ],
      "execution_count": null,
      "outputs": []
    },
    {
      "cell_type": "markdown",
      "metadata": {
        "id": "ol7V9PVFFbTX",
        "colab_type": "text"
      },
      "source": [
        "# **Selección de variables**\n",
        "El análisis de componentes principales puede ser utilizado para reducir la cantidad de variables que se utilizan para un análisis posterior."
      ]
    },
    {
      "cell_type": "code",
      "metadata": {
        "id": "ucFyziStF5aO",
        "colab_type": "code",
        "colab": {}
      },
      "source": [
        "#%% APLICACION DE PCA A LOS DATOS\n",
        "from sklearn.decomposition import PCA\n",
        "from sklearn import preprocessing\n",
        "tmp = preprocessing.scale(data.iloc[:,1:10])\n",
        "pca = PCA()\n",
        "#pca = PCA(n_components=3)\n",
        "pca.fit(tmp)\n",
        "data_pca = pca.transform(tmp)\n",
        "componentes = pca.components_"
      ],
      "execution_count": null,
      "outputs": []
    },
    {
      "cell_type": "markdown",
      "metadata": {
        "id": "2ormU_seRo5U",
        "colab_type": "text"
      },
      "source": [
        "Criterio de eliminación por varianza"
      ]
    },
    {
      "cell_type": "code",
      "metadata": {
        "id": "JfTU6utURUCh",
        "colab_type": "code",
        "colab": {}
      },
      "source": [
        "#%% CRITERIO DE LA VARIANZA PARA ELIMINACION DE VARIABLES\n",
        "varianzas = pd.DataFrame(datan.var().sort_values(),columns=['Varianza'])\n",
        "fig = plt.figure(figsize=(10,8))\n",
        "plt.bar(np.arange(len(varianzas)),varianzas.Varianza)\n",
        "plt.ylabel('Varianza')\n",
        "plt.xticks(np.arange(len(varianzas)),varianzas.index,rotation=90)\n",
        "plt.tight_layout()\n",
        "plt.show()\n",
        "\n",
        "from sklearn.feature_selection import VarianceThreshold\n",
        "sel = VarianceThreshold(threshold=1)\n",
        "sel.fit_transform(X)"
      ],
      "execution_count": null,
      "outputs": []
    },
    {
      "cell_type": "markdown",
      "metadata": {
        "id": "M78nJESGRz8q",
        "colab_type": "text"
      },
      "source": [
        "Criterio de eliminación por correlación"
      ]
    },
    {
      "cell_type": "code",
      "metadata": {
        "id": "OFQ-4z8lR4OC",
        "colab_type": "code",
        "colab": {}
      },
      "source": [
        "#%% Analisis de correlacion para eliminacion de variables\n",
        "import matplotlib.pyplot as plt\n",
        "subdata = data.iloc[:,1:10]\n",
        "correlaciones = np.corrcoef(subdata,rowvar=False)\n",
        "plt.imshow(correlaciones)\n",
        "plt.xticks(np.arange(9),np.arange(9))\n",
        "plt.yticks(np.arange(9),np.arange(9))\n",
        "plt.colorbar()\n",
        "plt.show()"
      ],
      "execution_count": null,
      "outputs": []
    },
    {
      "cell_type": "markdown",
      "metadata": {
        "id": "MRbT_95pSDGD",
        "colab_type": "text"
      },
      "source": [
        "Criterio de selección por clustering jerárquico"
      ]
    },
    {
      "cell_type": "code",
      "metadata": {
        "id": "BVZVe_jWSCbi",
        "colab_type": "code",
        "colab": {}
      },
      "source": [
        "#%% Aplicación del clustering jerarquico\n",
        "from scipy.cluster.hierarchy import dendrogram, linkage\n",
        "Z = linkage(subdata.T,metric='correlation',method='complete')\n",
        "d = dendrogram(Z)\n",
        "plt.show()\n",
        "correlaciones_clust = np.corrcoef(subdata.iloc[:,d['leaves']],rowvar=False)\n",
        "plt.imshow(correlaciones_clust)\n",
        "plt.xticks(np.arange(9),d['leaves'])\n",
        "plt.yticks(np.arange(9),d['leaves'])\n",
        "plt.colorbar()\n",
        "plt.show()"
      ],
      "execution_count": null,
      "outputs": []
    }
  ]
}